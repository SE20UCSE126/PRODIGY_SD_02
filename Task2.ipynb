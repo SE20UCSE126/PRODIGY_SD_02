{
 "cells": [
  {
   "cell_type": "code",
   "execution_count": 1,
   "id": "5c6c4fb1",
   "metadata": {},
   "outputs": [
    {
     "name": "stdout",
     "output_type": "stream",
     "text": [
      "Welcome to Guess the Number!\n",
      "I have chosen a number between 1 and 100. Try to guess it.\n",
      "Enter your guess (or 'exit' to quit): 88\n",
      "Too high! Try again.\n",
      "Enter your guess (or 'exit' to quit): 45\n",
      "Too low! Try again.\n",
      "Enter your guess (or 'exit' to quit): 67\n",
      "Too high! Try again.\n",
      "Enter your guess (or 'exit' to quit): 60\n",
      "Too high! Try again.\n",
      "Enter your guess (or 'exit' to quit): 54\n",
      "Too low! Try again.\n",
      "Enter your guess (or 'exit' to quit): 55\n",
      "Too low! Try again.\n",
      "Enter your guess (or 'exit' to quit): 57\n",
      "Too low! Try again.\n",
      "Enter your guess (or 'exit' to quit): 58\n",
      "Too low! Try again.\n",
      "Enter your guess (or 'exit' to quit): 59\n",
      "Congratulations! You've guessed the number 59 correctly!\n",
      "It took you 9 attempts.\n"
     ]
    }
   ],
   "source": [
    "import random\n",
    "\n",
    "def guess_the_number():\n",
    "    number_to_guess = random.randint(1, 100)\n",
    "    attempts = 0\n",
    "\n",
    "    print(\"Welcome to Guess the Number!\")\n",
    "    print(\"I have chosen a number between 1 and 100. Try to guess it.\")\n",
    "\n",
    "    while True:\n",
    "        guess = input(\"Enter your guess (or 'exit' to quit): \")\n",
    "\n",
    "        if guess.lower() == 'exit':\n",
    "            print(\"Thanks for playing!\")\n",
    "            break\n",
    "\n",
    "        try:\n",
    "            guess = int(guess)\n",
    "        except ValueError:\n",
    "            print(\"Please enter a valid number.\")\n",
    "            continue\n",
    "\n",
    "        attempts += 1\n",
    "\n",
    "        if guess < number_to_guess:\n",
    "            print(\"Too low! Try again.\")\n",
    "        elif guess > number_to_guess:\n",
    "            print(\"Too high! Try again.\")\n",
    "        else:\n",
    "            print(f\"Congratulations! You've guessed the number {number_to_guess} correctly!\")\n",
    "            print(f\"It took you {attempts} attempts.\")\n",
    "            break\n",
    "\n",
    "if __name__ == \"__main__\":\n",
    "    guess_the_number()\n"
   ]
  },
  {
   "cell_type": "code",
   "execution_count": null,
   "id": "09abdd75",
   "metadata": {},
   "outputs": [],
   "source": []
  }
 ],
 "metadata": {
  "kernelspec": {
   "display_name": "Python 3 (ipykernel)",
   "language": "python",
   "name": "python3"
  },
  "language_info": {
   "codemirror_mode": {
    "name": "ipython",
    "version": 3
   },
   "file_extension": ".py",
   "mimetype": "text/x-python",
   "name": "python",
   "nbconvert_exporter": "python",
   "pygments_lexer": "ipython3",
   "version": "3.9.12"
  }
 },
 "nbformat": 4,
 "nbformat_minor": 5
}
